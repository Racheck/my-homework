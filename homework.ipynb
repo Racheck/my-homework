{
 "cells": [
  {
   "cell_type": "markdown",
   "metadata": {},
   "source": [
    "# exercise 1 #\n",
    "\n"
   ]
  },
  {
   "cell_type": "code",
   "execution_count": 1,
   "metadata": {},
   "outputs": [
    {
     "name": "stdout",
     "output_type": "stream",
     "text": [
      "me gusta lol\n"
     ]
    }
   ],
   "source": [
    "print(\"me gusta lol\")"
   ]
  },
  {
   "cell_type": "code",
   "execution_count": 9,
   "metadata": {},
   "outputs": [
    {
     "name": "stdout",
     "output_type": "stream",
     "text": [
      "me gusta jugar mid\n"
     ]
    }
   ],
   "source": [
    "print(\"me gusta jugar mid\")"
   ]
  },
  {
   "cell_type": "code",
   "execution_count": 3,
   "metadata": {},
   "outputs": [
    {
     "name": "stdout",
     "output_type": "stream",
     "text": [
      "no soy buen jungla\n"
     ]
    }
   ],
   "source": [
    "print(\"no soy buen jungla\")"
   ]
  },
  {
   "cell_type": "code",
   "execution_count": 4,
   "metadata": {},
   "outputs": [
    {
     "name": "stdout",
     "output_type": "stream",
     "text": [
      "me molesta que me gankeen\n"
     ]
    }
   ],
   "source": [
    "print(\"me molesta que me gankeen\")"
   ]
  },
  {
   "cell_type": "code",
   "execution_count": 5,
   "metadata": {},
   "outputs": [
    {
     "name": "stdout",
     "output_type": "stream",
     "text": [
      "siempre ayudo otras lineas\n"
     ]
    }
   ],
   "source": [
    "print(\"siempre ayudo otras lineas\")"
   ]
  },
  {
   "cell_type": "code",
   "execution_count": 6,
   "metadata": {},
   "outputs": [
    {
     "name": "stdout",
     "output_type": "stream",
     "text": [
      "no siempre lo notan\n"
     ]
    }
   ],
   "source": [
    "print(\"no siempre lo notan\")"
   ]
  },
  {
   "cell_type": "code",
   "execution_count": 7,
   "metadata": {},
   "outputs": [
    {
     "name": "stdout",
     "output_type": "stream",
     "text": [
      "pero aun así lo hago\n"
     ]
    }
   ],
   "source": [
    "print(\"pero aun así lo hago\")"
   ]
  },
  {
   "cell_type": "markdown",
   "metadata": {},
   "source": [
    "# exercise 2 # "
   ]
  },
  {
   "cell_type": "code",
   "execution_count": null,
   "metadata": {},
   "outputs": [],
   "source": [
    "# esto no se va a leer como codigo"
   ]
  },
  {
   "cell_type": "code",
   "execution_count": 10,
   "metadata": {},
   "outputs": [
    {
     "name": "stdout",
     "output_type": "stream",
     "text": [
      "esto se puede leer\n"
     ]
    }
   ],
   "source": [
    "print (\"esto se puede leer\") # esto no"
   ]
  },
  {
   "cell_type": "code",
   "execution_count": 11,
   "metadata": {},
   "outputs": [],
   "source": [
    "# print (\"esto será temporal lo juro\")"
   ]
  },
  {
   "cell_type": "markdown",
   "metadata": {},
   "source": [
    "# exercise 3 # "
   ]
  },
  {
   "cell_type": "code",
   "execution_count": 12,
   "metadata": {},
   "outputs": [
    {
     "name": "stdout",
     "output_type": "stream",
     "text": [
      "vamos a hacer unas sumas faciles\n"
     ]
    }
   ],
   "source": [
    "print (\"vamos a hacer unas operaciones faciles\")"
   ]
  },
  {
   "cell_type": "code",
   "execution_count": 13,
   "metadata": {},
   "outputs": [
    {
     "name": "stdout",
     "output_type": "stream",
     "text": [
      "una suma 50\n"
     ]
    }
   ],
   "source": [
    "print(\"una suma\", 25+25)"
   ]
  },
  {
   "cell_type": "code",
   "execution_count": 14,
   "metadata": {},
   "outputs": [
    {
     "name": "stdout",
     "output_type": "stream",
     "text": [
      "una resta 5\n"
     ]
    }
   ],
   "source": [
    "print(\"una resta\", 25-20)"
   ]
  },
  {
   "cell_type": "code",
   "execution_count": 15,
   "metadata": {},
   "outputs": [
    {
     "name": "stdout",
     "output_type": "stream",
     "text": [
      "una division 20.0\n"
     ]
    }
   ],
   "source": [
    "print(\"una division\", 60/3)"
   ]
  },
  {
   "cell_type": "code",
   "execution_count": 16,
   "metadata": {},
   "outputs": [
    {
     "name": "stdout",
     "output_type": "stream",
     "text": [
      "multiplicación 400\n"
     ]
    }
   ],
   "source": [
    "print(\"multiplicación\", 20*20)"
   ]
  },
  {
   "cell_type": "code",
   "execution_count": 5,
   "metadata": {},
   "outputs": [
    {
     "name": "stdout",
     "output_type": "stream",
     "text": [
      "es mayor 4>5? False\n"
     ]
    }
   ],
   "source": [
    "print(\"es mayor 4>5?\",4>5)"
   ]
  },
  {
   "cell_type": "code",
   "execution_count": 6,
   "metadata": {},
   "outputs": [
    {
     "name": "stdout",
     "output_type": "stream",
     "text": [
      "y menor? True\n"
     ]
    }
   ],
   "source": [
    "print(\"y menor?\",4<5)"
   ]
  },
  {
   "cell_type": "markdown",
   "metadata": {},
   "source": [
    "# exercise 4 #"
   ]
  },
  {
   "cell_type": "code",
   "execution_count": 10,
   "metadata": {},
   "outputs": [
    {
     "name": "stdout",
     "output_type": "stream",
     "text": [
      "si restamos la cantidad de platanos que tenemos a la cantida de manzanas nos quedarian 50 restantesy si le sumamos las uvas tendriamos 70 manzanas\n"
     ]
    }
   ],
   "source": [
    "manzanas=100\n",
    "platanos=50\n",
    "uvas=20\n",
    "print(\"si restamos la cantidad de platanos que tenemos a la cantida de manzanas nos quedarian\",manzanas-platanos,\"restantes\" \n",
    "      \"y si le sumamos las uvas tendriamos\",manzanas-platanos+uvas,\"manzanas\")"
   ]
  },
  {
   "cell_type": "markdown",
   "metadata": {},
   "source": [
    "# exercise 5 #"
   ]
  },
  {
   "cell_type": "code",
   "execution_count": 24,
   "metadata": {},
   "outputs": [
    {
     "name": "stdout",
     "output_type": "stream",
     "text": [
      "les contare un poco sobre mi mascota, su nombre es kira ella es de color negro un negro muy brillante sus ojitos son cafe oscuro ella es muy chiquita tan solo pesa 3 y es muy joven ya que tiene tan solo 1 año\n"
     ]
    }
   ],
   "source": [
    "nombre = 'kira'\n",
    "color = 'negro'\n",
    "ojos = 'cafe oscuro'\n",
    "peso = 3 #kg\n",
    "edad  = 1 #año\n",
    "print(f\"les contare un poco sobre mi mascota, su nombre es {nombre} ella es de color {color} un {color} muy brillante sus ojitos son {ojos} ella es muy chiquita tan solo pesa {peso} y es muy joven ya que tiene tan solo {edad} año\")"
   ]
  },
  {
   "cell_type": "markdown",
   "metadata": {},
   "source": [
    "# exercise 6 #"
   ]
  },
  {
   "cell_type": "code",
   "execution_count": 43,
   "metadata": {},
   "outputs": [
    {
     "name": "stdout",
     "output_type": "stream",
     "text": [
      "yo tengo 20 perros de los cuales 10 de ellos son negros y los otros 10 restantes son blancos\n",
      "y para terminar:\n",
      "amo los perros\n"
     ]
    }
   ],
   "source": [
    "x = 'negros'\n",
    "y = 'blancos'\n",
    "z = 'perros'\n",
    "a ='amo los '\n",
    "print(f\"yo tengo 20 {z} de los cuales 10 de ellos son {x} y los otros 10 restantes son {y}\")\n",
    "print(\"y para terminar:\")\n",
    "print(a+z)\n",
    "\n"
   ]
  },
  {
   "cell_type": "markdown",
   "metadata": {},
   "source": [
    "# exercise 7 # "
   ]
  },
  {
   "cell_type": "code",
   "execution_count": 52,
   "metadata": {},
   "outputs": [
    {
     "name": "stdout",
     "output_type": "stream",
     "text": [
      "el rio es azul\n",
      "el bosque es verde\n",
      "el cielo claro.\n",
      "..........\n",
      "es hermoso\n"
     ]
    }
   ],
   "source": [
    "print(\"el rio es azul\") \n",
    "print(\"el bosque es verde\")\n",
    "print(\"el cielo claro.\") \n",
    "print(\".\" * 10) \n",
    "\n",
    "end1 = \"e\" \n",
    "end2 = \"s\"\n",
    "end3 = \"h\"\n",
    "end4 = \"e\" \n",
    "end5 = \"r\"\n",
    "end6 = \"m\" \n",
    "end7 = \"o\" \n",
    "end8 = \"s\" \n",
    "end9 = \"o\" \n",
    "\n",
    " \n",
    "print(end1 + end2 , end=' ') \n",
    "print(end3 + end4 + end5 + end6 + end7 + end8 + end9)      "
   ]
  },
  {
   "cell_type": "markdown",
   "metadata": {},
   "source": [
    "# exercise 8 #"
   ]
  },
  {
   "cell_type": "code",
   "execution_count": 64,
   "metadata": {},
   "outputs": [
    {
     "name": "stdout",
     "output_type": "stream",
     "text": [
      "10 20 30 40\n",
      "diez veinte treinta cuatro\n",
      "True True False False\n",
      "{} {} {} {} {} {} {} {} {} {} {} {} {} {} {} {}\n",
      "por que salen tantos errores ;-;\n"
     ]
    }
   ],
   "source": [
    " formatter = \"{} {} {} {}\"\n",
    "print(formatter.format(10, 20, 30, 40)) \n",
    "print(formatter.format(\"diez\", \"veinte\", \"treinta\", \"cuatro\")) \n",
    "print(formatter.format(True, True, False, False)) \n",
    "print(formatter.format(formatter, formatter, formatter, formatter))  \n",
    "print(formatter.format( \n",
    "     \"por que\", \n",
    "     \"salen\", \n",
    "    \"tantos\", \n",
    "     \"errores ;-;\" \n",
    "     ))\n",
    "\n"
   ]
  },
  {
   "cell_type": "markdown",
   "metadata": {},
   "source": [
    "# exercise 9 #"
   ]
  },
  {
   "cell_type": "code",
   "execution_count": 69,
   "metadata": {},
   "outputs": [
    {
     "name": "stdout",
     "output_type": "stream",
     "text": [
      "estos son los colores:  negro blanco azul rojo amarillo verde naranja \n",
      "y estos los puntos cardinales:  norte\n",
      "sur\n",
      "este\n",
      "oeste\n",
      "  pues al parecer con estas comillas podemos escribir todo lo que queramos y todas las lineas que queramos 2 o 3 o 4 o 5 o 6   \n"
     ]
    }
   ],
   "source": [
    "colores = \"negro blanco azul rojo amarillo verde naranja \"\n",
    "puntos = \"norte\\nsur\\neste\\noeste\"\n",
    "print(\"estos son los colores: \", colores)\n",
    "print(\"y estos los puntos cardinales: \", puntos)\n",
    "print(\"\"\"  pues al parecer con estas comillas podemos escribir todo lo que queramos y todas las lineas que queramos 2 o 3 o 4 o 5 o 6   \"\"\")\n"
   ]
  },
  {
   "cell_type": "markdown",
   "metadata": {},
   "source": [
    "# exercise 10 #\n"
   ]
  },
  {
   "cell_type": "code",
   "execution_count": 83,
   "metadata": {},
   "outputs": [
    {
     "name": "stdout",
     "output_type": "stream",
     "text": [
      "\testoy cansado.\n",
      "por que?\\estoy haciendo esto a esta hora.\n",
      "a si\\ no sabia \\ de la tarea.\n",
      " \n",
      "lista de compras: \n",
      "\t* tomate\n",
      "\t* cebolla\n",
      "\t* huevo\n",
      "\t* jamon \n",
      " \n"
     ]
    }
   ],
   "source": [
    "pomerian = \"\\testoy cansado.\" \n",
    "golden_retriever = \"por que?\\estoy haciendo esto a esta hora.\" \n",
    "husky = \"a si\\\\ no sabia \\\\ de la tarea.\"\n",
    "doggo = \"\"\" \n",
    "lista de compras: \n",
    "\\t* tomate\n",
    "\\t* cebolla\n",
    "\\t* huevo\\n\\t* jamon \n",
    " \"\"\"\n",
    "print(pomerian)\n",
    "print(golden_retriever) \n",
    "print(husky)\n",
    "print(doggo)"
   ]
  },
  {
   "cell_type": "code",
   "execution_count": null,
   "metadata": {},
   "outputs": [],
   "source": []
  }
 ],
 "metadata": {
  "kernelspec": {
   "display_name": "Python 3",
   "language": "python",
   "name": "python3"
  },
  "language_info": {
   "codemirror_mode": {
    "name": "ipython",
    "version": 3
   },
   "file_extension": ".py",
   "mimetype": "text/x-python",
   "name": "python",
   "nbconvert_exporter": "python",
   "pygments_lexer": "ipython3",
   "version": "3.7.4"
  }
 },
 "nbformat": 4,
 "nbformat_minor": 2
}
